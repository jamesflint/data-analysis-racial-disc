{
 "cells": [
  {
   "cell_type": "markdown",
   "metadata": {},
   "source": [
    "# Examining Racial Discrimination in the US Job Market\n",
    "\n",
    "### Background\n",
    "Racial discrimination continues to be pervasive in cultures throughout the world. Researchers examined the level of racial discrimination in the United States labor market by randomly assigning identical résumés to black-sounding or white-sounding names and observing the impact on requests for interviews from employers.\n",
    "\n",
    "### Data\n",
    "In the dataset provided, each row represents a resume. The 'race' column has two values, 'b' and 'w', indicating black-sounding and white-sounding. The column 'call' has two values, 1 and 0, indicating whether the resume received a call from employers or not.\n",
    "\n",
    "Note that the 'b' and 'w' values in race are assigned randomly to the resumes when presented to the employer."
   ]
  },
  {
   "cell_type": "markdown",
   "metadata": {},
   "source": [
    "<div class=\"span5 alert alert-info\">\n",
    "### Exercises\n",
    "You will perform a statistical analysis to establish whether race has a significant impact on the rate of callbacks for resumes.\n",
    "\n",
    "Answer the following questions **in this notebook below and submit to your Github account**. \n",
    "\n",
    "   1. What test is appropriate for this problem? Does CLT apply?\n",
    "   2. What are the null and alternate hypotheses?\n",
    "   3. Compute margin of error, confidence interval, and p-value.\n",
    "   4. Write a story describing the statistical significance in the context or the original problem.\n",
    "   5. Does your analysis mean that race/name is the most important factor in callback success? Why or why not? If not, how would you amend your analysis?\n",
    "\n",
    "You can include written notes in notebook cells using Markdown: \n",
    "   - In the control panel at the top, choose Cell > Cell Type > Markdown\n",
    "   - Markdown syntax: http://nestacms.com/docs/creating-content/markdown-cheat-sheet\n",
    "\n",
    "\n",
    "#### Resources\n",
    "+ Experiment information and data source: http://www.povertyactionlab.org/evaluation/discrimination-job-market-united-states\n",
    "+ Scipy statistical methods: http://docs.scipy.org/doc/scipy/reference/stats.html \n",
    "+ Markdown syntax: http://nestacms.com/docs/creating-content/markdown-cheat-sheet\n",
    "</div>\n",
    "****"
   ]
  },
  {
   "cell_type": "code",
   "execution_count": 1,
   "metadata": {
    "collapsed": true
   },
   "outputs": [],
   "source": [
    "import pandas as pd\n",
    "import numpy as np\n",
    "from scipy import stats"
   ]
  },
  {
   "cell_type": "code",
   "execution_count": 2,
   "metadata": {
    "collapsed": false
   },
   "outputs": [],
   "source": [
    "data = pd.io.stata.read_stata('data/us_job_market_discrimination.dta')"
   ]
  },
  {
   "cell_type": "code",
   "execution_count": 3,
   "metadata": {
    "collapsed": false
   },
   "outputs": [
    {
     "data": {
      "text/plain": [
       "157.0"
      ]
     },
     "execution_count": 3,
     "metadata": {},
     "output_type": "execute_result"
    }
   ],
   "source": [
    "# number of callbacks for black-sounding names\n",
    "sum(data[data.race=='b'].call)"
   ]
  },
  {
   "cell_type": "code",
   "execution_count": 4,
   "metadata": {
    "collapsed": false
   },
   "outputs": [
    {
     "data": {
      "text/html": [
       "<div>\n",
       "<table border=\"1\" class=\"dataframe\">\n",
       "  <thead>\n",
       "    <tr style=\"text-align: right;\">\n",
       "      <th></th>\n",
       "      <th>id</th>\n",
       "      <th>ad</th>\n",
       "      <th>education</th>\n",
       "      <th>ofjobs</th>\n",
       "      <th>yearsexp</th>\n",
       "      <th>honors</th>\n",
       "      <th>volunteer</th>\n",
       "      <th>military</th>\n",
       "      <th>empholes</th>\n",
       "      <th>occupspecific</th>\n",
       "      <th>...</th>\n",
       "      <th>compreq</th>\n",
       "      <th>orgreq</th>\n",
       "      <th>manuf</th>\n",
       "      <th>transcom</th>\n",
       "      <th>bankreal</th>\n",
       "      <th>trade</th>\n",
       "      <th>busservice</th>\n",
       "      <th>othservice</th>\n",
       "      <th>missind</th>\n",
       "      <th>ownership</th>\n",
       "    </tr>\n",
       "  </thead>\n",
       "  <tbody>\n",
       "    <tr>\n",
       "      <th>0</th>\n",
       "      <td>b</td>\n",
       "      <td>1</td>\n",
       "      <td>4</td>\n",
       "      <td>2</td>\n",
       "      <td>6</td>\n",
       "      <td>0</td>\n",
       "      <td>0</td>\n",
       "      <td>0</td>\n",
       "      <td>1</td>\n",
       "      <td>17</td>\n",
       "      <td>...</td>\n",
       "      <td>1.0</td>\n",
       "      <td>0.0</td>\n",
       "      <td>1.0</td>\n",
       "      <td>0.0</td>\n",
       "      <td>0.0</td>\n",
       "      <td>0.0</td>\n",
       "      <td>0.0</td>\n",
       "      <td>0.0</td>\n",
       "      <td>0.0</td>\n",
       "      <td></td>\n",
       "    </tr>\n",
       "    <tr>\n",
       "      <th>1</th>\n",
       "      <td>b</td>\n",
       "      <td>1</td>\n",
       "      <td>3</td>\n",
       "      <td>3</td>\n",
       "      <td>6</td>\n",
       "      <td>0</td>\n",
       "      <td>1</td>\n",
       "      <td>1</td>\n",
       "      <td>0</td>\n",
       "      <td>316</td>\n",
       "      <td>...</td>\n",
       "      <td>1.0</td>\n",
       "      <td>0.0</td>\n",
       "      <td>1.0</td>\n",
       "      <td>0.0</td>\n",
       "      <td>0.0</td>\n",
       "      <td>0.0</td>\n",
       "      <td>0.0</td>\n",
       "      <td>0.0</td>\n",
       "      <td>0.0</td>\n",
       "      <td></td>\n",
       "    </tr>\n",
       "    <tr>\n",
       "      <th>2</th>\n",
       "      <td>b</td>\n",
       "      <td>1</td>\n",
       "      <td>4</td>\n",
       "      <td>1</td>\n",
       "      <td>6</td>\n",
       "      <td>0</td>\n",
       "      <td>0</td>\n",
       "      <td>0</td>\n",
       "      <td>0</td>\n",
       "      <td>19</td>\n",
       "      <td>...</td>\n",
       "      <td>1.0</td>\n",
       "      <td>0.0</td>\n",
       "      <td>1.0</td>\n",
       "      <td>0.0</td>\n",
       "      <td>0.0</td>\n",
       "      <td>0.0</td>\n",
       "      <td>0.0</td>\n",
       "      <td>0.0</td>\n",
       "      <td>0.0</td>\n",
       "      <td></td>\n",
       "    </tr>\n",
       "    <tr>\n",
       "      <th>3</th>\n",
       "      <td>b</td>\n",
       "      <td>1</td>\n",
       "      <td>3</td>\n",
       "      <td>4</td>\n",
       "      <td>6</td>\n",
       "      <td>0</td>\n",
       "      <td>1</td>\n",
       "      <td>0</td>\n",
       "      <td>1</td>\n",
       "      <td>313</td>\n",
       "      <td>...</td>\n",
       "      <td>1.0</td>\n",
       "      <td>0.0</td>\n",
       "      <td>1.0</td>\n",
       "      <td>0.0</td>\n",
       "      <td>0.0</td>\n",
       "      <td>0.0</td>\n",
       "      <td>0.0</td>\n",
       "      <td>0.0</td>\n",
       "      <td>0.0</td>\n",
       "      <td></td>\n",
       "    </tr>\n",
       "    <tr>\n",
       "      <th>4</th>\n",
       "      <td>b</td>\n",
       "      <td>1</td>\n",
       "      <td>3</td>\n",
       "      <td>3</td>\n",
       "      <td>22</td>\n",
       "      <td>0</td>\n",
       "      <td>0</td>\n",
       "      <td>0</td>\n",
       "      <td>0</td>\n",
       "      <td>313</td>\n",
       "      <td>...</td>\n",
       "      <td>1.0</td>\n",
       "      <td>1.0</td>\n",
       "      <td>0.0</td>\n",
       "      <td>0.0</td>\n",
       "      <td>0.0</td>\n",
       "      <td>0.0</td>\n",
       "      <td>0.0</td>\n",
       "      <td>1.0</td>\n",
       "      <td>0.0</td>\n",
       "      <td>Nonprofit</td>\n",
       "    </tr>\n",
       "  </tbody>\n",
       "</table>\n",
       "<p>5 rows × 65 columns</p>\n",
       "</div>"
      ],
      "text/plain": [
       "  id ad  education  ofjobs  yearsexp  honors  volunteer  military  empholes  \\\n",
       "0  b  1          4       2         6       0          0         0         1   \n",
       "1  b  1          3       3         6       0          1         1         0   \n",
       "2  b  1          4       1         6       0          0         0         0   \n",
       "3  b  1          3       4         6       0          1         0         1   \n",
       "4  b  1          3       3        22       0          0         0         0   \n",
       "\n",
       "   occupspecific    ...      compreq  orgreq  manuf  transcom  bankreal trade  \\\n",
       "0             17    ...          1.0     0.0    1.0       0.0       0.0   0.0   \n",
       "1            316    ...          1.0     0.0    1.0       0.0       0.0   0.0   \n",
       "2             19    ...          1.0     0.0    1.0       0.0       0.0   0.0   \n",
       "3            313    ...          1.0     0.0    1.0       0.0       0.0   0.0   \n",
       "4            313    ...          1.0     1.0    0.0       0.0       0.0   0.0   \n",
       "\n",
       "  busservice othservice  missind  ownership  \n",
       "0        0.0        0.0      0.0             \n",
       "1        0.0        0.0      0.0             \n",
       "2        0.0        0.0      0.0             \n",
       "3        0.0        0.0      0.0             \n",
       "4        0.0        1.0      0.0  Nonprofit  \n",
       "\n",
       "[5 rows x 65 columns]"
      ]
     },
     "execution_count": 4,
     "metadata": {},
     "output_type": "execute_result"
    }
   ],
   "source": [
    "data.head()"
   ]
  },
  {
   "cell_type": "code",
   "execution_count": 5,
   "metadata": {
    "collapsed": false
   },
   "outputs": [
    {
     "data": {
      "text/plain": [
       "4870"
      ]
     },
     "execution_count": 5,
     "metadata": {},
     "output_type": "execute_result"
    }
   ],
   "source": [
    "len(data)"
   ]
  },
  {
   "cell_type": "code",
   "execution_count": 6,
   "metadata": {
    "collapsed": false
   },
   "outputs": [
    {
     "data": {
      "text/plain": [
       "0       w\n",
       "1       w\n",
       "2       b\n",
       "3       b\n",
       "4       w\n",
       "5       w\n",
       "6       w\n",
       "7       b\n",
       "8       b\n",
       "9       b\n",
       "10      b\n",
       "11      w\n",
       "12      b\n",
       "13      w\n",
       "14      b\n",
       "15      w\n",
       "16      w\n",
       "17      b\n",
       "18      w\n",
       "19      b\n",
       "20      b\n",
       "21      w\n",
       "22      w\n",
       "23      w\n",
       "24      w\n",
       "25      b\n",
       "26      b\n",
       "27      w\n",
       "28      b\n",
       "29      b\n",
       "       ..\n",
       "4840    b\n",
       "4841    b\n",
       "4842    b\n",
       "4843    w\n",
       "4844    b\n",
       "4845    w\n",
       "4846    w\n",
       "4847    w\n",
       "4848    b\n",
       "4849    b\n",
       "4850    b\n",
       "4851    w\n",
       "4852    w\n",
       "4853    b\n",
       "4854    w\n",
       "4855    w\n",
       "4856    b\n",
       "4857    b\n",
       "4858    b\n",
       "4859    b\n",
       "4860    w\n",
       "4861    w\n",
       "4862    w\n",
       "4863    w\n",
       "4864    b\n",
       "4865    b\n",
       "4866    b\n",
       "4867    w\n",
       "4868    b\n",
       "4869    w\n",
       "Name: race, dtype: object"
      ]
     },
     "execution_count": 6,
     "metadata": {},
     "output_type": "execute_result"
    }
   ],
   "source": [
    "data['race']"
   ]
  },
  {
   "cell_type": "code",
   "execution_count": 7,
   "metadata": {
    "collapsed": false
   },
   "outputs": [
    {
     "data": {
      "text/plain": [
       "0       0.0\n",
       "1       0.0\n",
       "2       0.0\n",
       "3       0.0\n",
       "4       0.0\n",
       "5       0.0\n",
       "6       0.0\n",
       "7       0.0\n",
       "8       0.0\n",
       "9       0.0\n",
       "10      0.0\n",
       "11      0.0\n",
       "12      0.0\n",
       "13      0.0\n",
       "14      0.0\n",
       "15      0.0\n",
       "16      0.0\n",
       "17      0.0\n",
       "18      0.0\n",
       "19      0.0\n",
       "20      0.0\n",
       "21      0.0\n",
       "22      0.0\n",
       "23      0.0\n",
       "24      0.0\n",
       "25      0.0\n",
       "26      0.0\n",
       "27      0.0\n",
       "28      0.0\n",
       "29      0.0\n",
       "       ... \n",
       "4840    0.0\n",
       "4841    0.0\n",
       "4842    0.0\n",
       "4843    1.0\n",
       "4844    0.0\n",
       "4845    0.0\n",
       "4846    1.0\n",
       "4847    1.0\n",
       "4848    1.0\n",
       "4849    0.0\n",
       "4850    0.0\n",
       "4851    0.0\n",
       "4852    0.0\n",
       "4853    0.0\n",
       "4854    0.0\n",
       "4855    0.0\n",
       "4856    0.0\n",
       "4857    0.0\n",
       "4858    0.0\n",
       "4859    1.0\n",
       "4860    0.0\n",
       "4861    1.0\n",
       "4862    0.0\n",
       "4863    0.0\n",
       "4864    0.0\n",
       "4865    0.0\n",
       "4866    0.0\n",
       "4867    0.0\n",
       "4868    0.0\n",
       "4869    0.0\n",
       "Name: call, dtype: float32"
      ]
     },
     "execution_count": 7,
     "metadata": {},
     "output_type": "execute_result"
    }
   ],
   "source": [
    "data['call']"
   ]
  },
  {
   "cell_type": "code",
   "execution_count": 14,
   "metadata": {
    "collapsed": true
   },
   "outputs": [],
   "source": [
    "black = data[data.race=='b'].call\n",
    "white = data[data.race=='w'].call\n",
    "black_arr = np.array(black)\n",
    "white_arr = np.array(white)"
   ]
  },
  {
   "cell_type": "code",
   "execution_count": 27,
   "metadata": {
    "collapsed": false
   },
   "outputs": [
    {
     "name": "stdout",
     "output_type": "stream",
     "text": [
      "0.0    2278\n",
      "1.0     157\n",
      "Name: call, dtype: int64\n",
      "0.0    2200\n",
      "1.0     235\n",
      "Name: call, dtype: int64\n"
     ]
    }
   ],
   "source": [
    "# print(black, white, black_arr, white_arr)\n",
    "# print(len(black == 0))\n",
    "print(black.value_counts())\n",
    "print(white.value_counts())"
   ]
  },
  {
   "cell_type": "markdown",
   "metadata": {},
   "source": [
    "## 1. What test is appropriate for this problem? Does CLT apply?\n",
    "\n",
    "Because the outcomes are binary (i.e. the individuals either did, or did not, receive a call for interview), the samples are Bernouilli distributions. We can therefore either compare the population proportions using a 95% confidence interval, or by doing a hypothesis test. The Central Limit Theorum does apply, as we can assume that over multiple random samples of resume submission in the population as a whole, the probability of interview call backs would follow a normal distribution.\n",
    "\n",
    "\n",
    "## 2. What are the null and alternate hypotheses?\n",
    "\n",
    "The null hypothesis, $ H_0 $, is that there is NO difference between the way that white-sounding and black-sounding names are treated, which is to say that the mean difference between the two populations is 0: \n",
    "\n",
    "$$ P_1 - P_2 = 0 $$\n",
    "\n",
    "which would also entail that the mean of any sampling distribution of the proportion between these two groups should also equal 0:\n",
    "\n",
    "$$ \\bar P_1 - \\bar P_2 = 0 $$ \n",
    "\n",
    "The alternate hypothesis is that there IS a difference, such that:\n",
    "\n",
    "$$ P_1 - P_2 \\neq 0 $$\n",
    "\n",
    "We want to test this with a significance level, $ \\alpha $, of < 5%. If we assume $ H_0 $, this means we want to figure out the probability of our sample occuring given that $ H_0 $ is true. This probability is known as the P-value:\n",
    "\n",
    "$$ P (\\bar P_1 - \\bar P_2 \\, | \\, H_0) < 5%) $$\n",
    "\n",
    "\n",
    "## 3. Compute margin of error, confidence interval, and p-value.\n",
    "\n",
    "### Margin of error\n",
    "\n",
    "The margin of error will be similar for both samples, as they have the same sample size. Let's look at the margin of error for the sample of black-sounding names.\n",
    "\n",
    "If we score an interview callback with a 1, and a non-callback with a zero, in our sample of 2435 people we have 157 ones and 2278 zeros. The probability of getting a callback is then: (157 x 1) + (2278 x 0) / 2435 = 0.064 = 6.4%\n",
    "\n",
    "The sample variance $ S^2 $ of this sample is: 157(1 - 0.064)$^2$ + 2278(0 - 0.064)$^2$ / 2453 - 1 = 0.0603\n",
    "\n",
    "The standard deviation $ S $ of the sample is the square root of this number, which is 0.25.\n",
    "\n",
    "If we assume, in line with the Central Limit Theorum, that the standard deviation of the sample is approximately equal to the standard deviation of the actual population, we can then estimate the standard deviation of the sampling distribution of the sample mean:\n",
    "\n",
    "$$ \\sigma_\\bar x = \\frac{\\sigma}{\\sqrt 2435} \\approx \\frac{S}{\\sqrt 2435} \\approx \\frac {0.25}{49.35} \\approx {0.005}$$\n",
    "\n",
    "To find the margin of error of the mean of our sample $ \\mu_\\bar x $ we need to ask ourselves: within what margin or interval of the sample mean can we be reasonably confident, which is to say 95.4% confident, that the true mean $\\mu$ of the actual population will fall? We know that 95.4% of the population will fall within two standard deviations of the mean in a normal distribution, so using the CLT, we are able to say that:\n",
    "\n",
    "$$ p  ( \\mu \\, is\\, within\\, 2\\sigma_\\bar x \\,of\\, \\bar x)\\, = \\, 95.4% $$\n",
    "\n",
    "As $ \\sigma_\\bar x \\, = \\, 0.005 $, $2\\sigma_\\bar x \\,=\\, 0.01 $, which is 1%. So our margin of error is 1%. Thus we can be 95.4% sure that the true population mean falls within 1% of 6.4%, that is to say:\n",
    "\n",
    "$$ 5.4 \\, \\lt \\, \\mu \\, \\lt \\, 7.4 $$\n",
    "\n",
    "\n",
    "### Confidence Interval\n",
    "\n",
    "Clearly we used a confidence interval to compute the margin of error, above (a margin of error is in fact just another way of expressing a confidence interval). But what we're really interested in here is using a confidence interval to express the degree to which we can be certain that there is a significant difference between the outcomes for our two sample groups of black-sounding and white-sounding names. \n",
    "\n",
    "In other words, with what level of confidence can we confirm or reject the null hypothesis outlined above that there is no significant difference between the outcomes of the two groups?\n",
    "\n",
    "$$ P_1 - P_2 = 0 $$\n",
    "\n",
    "As affirmed above, this hypothesis entails that the mean of the sampling *proportion* of samples of the two groups should also equal 0:\n",
    "\n",
    "$$ \\bar P_1 - \\bar P_2 = 0 $$\n",
    "\n",
    "As this is a hypothesis about a sample distribution of a sample mean (albeit a sample of proportions, rather than absolute sizes) we can calculate a confidence interval much as we did for the margin of error, above. \n",
    "\n",
    "Right now, $ \\bar P_1 - \\bar P_2 $ is not equal to zero but to 0.0645 - 0.0965 = 0.032. So what is our 95% confidence interval here? What's the interval $ d $ such that we can be 95% that the true difference between the sample groups will fall within $ d $ of 0.032 (or 3.2%)?\n",
    "\n",
    "To find this interval we can use a $ z $ table. This is a two-tailed interval (i.e. it stretches out to both sides from the mean), so we want to find the 97.5% confidence value in a normal distribution, and apply it to both sides of our mean. Looking up 97.5% on the table gives us a $ z $ score of 1.96, so:\n",
    "\n",
    "$$ d = 1.96 \\, * \\, \\sigma(\\bar p_1 - \\bar p_2) $$\n",
    "\n",
    "where $ \\sigma(\\bar p_1 - \\bar p_2) $ is the standard deviation of the sample distribution of the sample proportion. To calculate *that* we calculate the variance of the two samples according to the CLT formula:\n",
    "\n",
    "$$ \\sigma_\\bar p ^2 = \\frac{P_x (1-P_x)}{2435} $$\n",
    "\n",
    "then subtract the result for $\\bar p_2$ from the result for $\\bar p_1 $ to give us the variance of the sampling distribution of the sample proportions, and then take the square root of that figure to give us the standard deviation. As our sample size is quite large, we can estimate the true population means $P_1$ and $P_2$ using our sample proportions (once of which we already calculate above when looking at the margin of error):\n",
    "\n",
    "$$ \\sigma(\\bar p_1 - \\bar p_2) \\approx \\sqrt (\\frac{P_1 (1 - P_1)}{2435} + \\frac{P_2 (1 - P_2)}{2435}) $$\n",
    "\n",
    "If we plug in the numbers, we get a result of 0.007, and so we can now calculate $ d $:\n",
    "\n",
    "$$ d \\, = \\, 1.96 \\, * \\, 0.007 \\, = \\, 0.013 $$\n",
    "\n",
    "So we have our answer: our 95% confidence interval is 0.013 + 0.013 = 0.026. So there's a 95% chance that the true proportional difference between the two groups of black-sounding and white-sounding names is within 1.3% of 3.2%, which is to say that: \n",
    "\n",
    "$$ 1.9 \\, \\lt \\, P \\, \\lt \\, 4.5 $$\n",
    "\n",
    "As zero lies outside this range, we can be 95% certain that the actual difference between the groups is not zero, and therefore we can reject the null hypothesis.\n",
    "\n",
    "#### P-Value\n",
    "\n",
    "Flipping this round, we can calculate the P-value of getting a difference between two samples of 3.2% by plugging our result back into the CLT formula and consulting the $ Z $ table again:\n",
    "\n",
    "$$ z = \\frac{statistic \\, - \\, hypothesized\\,value}{estimated\\,standard\\,error\\,of\\,the\\,statistic} $$\n",
    "\n",
    "which is: \n",
    "\n",
    "$$ z = \\frac{(\\bar p_1 - \\bar p_2) - \\mu_p}{\\sigma(\\bar p_1 - \\bar p_2)} $$\n",
    "\n",
    "which is: \n",
    "\n",
    "$$ z = \\frac{0.032 \\, - \\, 0}{0.007} = 4.57 $$\n",
    "\n",
    "We already know that our critical $ z $ value for a 95% confidence interval is 1.96. 4.57 is way beyond this, so extreme it doesn't even register on the $ z $ table, so we can confidently say that the P-value or probability of getting a difference between the two samples of 3.2% is less than 5% - and in fact less than 1% - and we can again reject the null hypothesis.\n",
    "\n",
    "\n",
    "## 4. Write a story describing the statistical significance in the context of the original problem.\n",
    "\n",
    "Now that all the above calculations have been done, we can write our story. When we examined the affect of racially inflected surnames on the interview callback rate on identical resumés submitted under black-sounding and white-sounding names, we found that the black-sounding names had a callback rate of 6.45%, and the white-sounding names had a callback rate of 9.65%. If we assume that, other things being equal, resumé callback rates for the job-seeking population at large follow a normal distribution based on the quality of the resumé and its appropriateness for the position, the chances of getting a difference of this magnitude between our two samples (with their substantial sample population sizes of 2,435 people per sample), is less than 1%. We can in addition be 95% certain that people with white-sounding names are between 1.8% and 4.5% more likely to receive an interview callback from a resumé submission than people with black-sounding names, all other things being equal.\n",
    "\n",
    "\n",
    "## 5. Does your analysis mean that race/name is the most important factor in callback success? Why or why not? If not, how would you amend your analysis?\n",
    "\n",
    "The analysis suggests that race/name is a factor in callback success, but not the most important factor. Even at its most statistically likely, the influence it has on the outcome is less than 5%. To get a clearly picture of the other factors at play and their relative influence, we would need to do a series of similar comparative analyses isolating the other factors in the dataset, which including education, location, age, gender, military experience and previous employment experience.\n"
   ]
  },
  {
   "cell_type": "code",
   "execution_count": null,
   "metadata": {
    "collapsed": false
   },
   "outputs": [],
   "source": []
  },
  {
   "cell_type": "code",
   "execution_count": null,
   "metadata": {
    "collapsed": false
   },
   "outputs": [],
   "source": []
  },
  {
   "cell_type": "code",
   "execution_count": null,
   "metadata": {
    "collapsed": true
   },
   "outputs": [],
   "source": []
  }
 ],
 "metadata": {
  "kernelspec": {
   "display_name": "Python 3",
   "language": "python",
   "name": "python3"
  },
  "language_info": {
   "codemirror_mode": {
    "name": "ipython",
    "version": 3
   },
   "file_extension": ".py",
   "mimetype": "text/x-python",
   "name": "python",
   "nbconvert_exporter": "python",
   "pygments_lexer": "ipython3",
   "version": "3.6.0"
  }
 },
 "nbformat": 4,
 "nbformat_minor": 0
}
